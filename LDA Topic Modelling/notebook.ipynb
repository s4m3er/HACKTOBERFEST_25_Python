import pandas as pd
import numpy as np

emails = pd.read_csv('emails.csv')
email_subset = emails[:10000]

print(email_subset.shape)
print(email_subset.head())

def parse_raw_message(raw_message):
    lines = raw_message.split('\n')
    email = {}
    message = ''
    keys_to_extract = ['from', 'to']
    for line in lines:
        if ':' not in line:
            message += line.strip()
            email['body'] = message
        else:
            pairs = line.split(':')
            key = pairs[0].lower()
            val = pairs[1].strip()
            if key in keys_to_extract:
                email[key] = val
    
    return email

def map_to_list(emails, key):
  results = []
  for email in emails:
    if key not in email:
      results.append('')
    else:
      results.append(email[key])
  return results

def parse_into_emails(messages):
  emails = [parse_raw_message(message) for message in messages]
  return{
    'body': map_to_list(emails, 'body'),
    'to'  : map_to_list(emails, 'to'),
    'from': map_to_list(emails, 'from')
  }

email_df = pd.DataFrame(parse_into_emails(email_subset.message))
email_df.head() 

import gensim
import gensim.corpora as corpora
from gensim.utils import simple_preprocess
from gensim.models import CoherenceModel
import spacy
import pyLDAvis
import pyLDAvis.gensim_models as gensimvis
import matplotlib.pyplot as plt
import nltk
from nltk.corpus import stopwords
stop_words = set(stopwords.words('english'))

# convert email body to list
data = email_df.body.values.tolist()

# tokenize
def sent_to_words(sentences):
    for sentence in sentences:
        yield(simple_preprocess(str(sentence), deacc=True))  # deacc=True removes punctuations

data_words = list(sent_to_words(data))
print(data_words[3])


#ngrams
from gensim.models.phrases import Phrases, Phraser

# Build the bigram and trigram models
bigram = Phrases(data_words, min_count=5, threshold=100) # higher threshold fewer phrases.
trigram = Phrases(bigram[data_words], threshold=100)

# Faster way to get a sentence clubbed as a trigram/bigram
bigram_mod = Phraser(bigram)
trigram_mod = Phraser(trigram)

# See trigram example
print(trigram_mod[bigram_mod[data_words[200]]])


def lemmatization(texts, allowed_postags=['NOUN', 'ADJ', 'VERB', 'ADV']):
    """https://spacy.io/api/annotation"""
    nlp = spacy.load("en_core_web_sm")
    texts_out = []
    for sent in texts:
        doc = nlp(" ".join(sent))
        texts_out.append([token.lemma_ for token in doc if token.pos_ in allowed_postags])
    return texts_out


def remove_stopwords(texts):
    return [[word for word in simple_preprocess(str(doc)) if word not in stop_words] for doc in texts]

def make_bigrams(texts):
    return [bigram_mod[doc] for doc in texts]

def make_trigrams(texts):
    return [trigram_mod[bigram_mod[doc]] for doc in texts]

# Remove Stop Words
data_words_nostops = remove_stopwords(data_words)

# Form Bigrams
data_words_bigrams = make_bigrams(data_words_nostops)


# Do lemmatization keeping only noun, adj, vb, adv
data_lemmatized = lemmatization(data_words_bigrams, allowed_postags=['NOUN', 'ADJ', 'VERB', 'ADV'])

print(data_lemmatized[3])

# To represent each word as (token_id, token_count)
# Create dictionary
id2word = corpora.Dictionary(data_lemmatized)

# Create corpus
texts = data_lemmatized

# Term document freq
corpus = [id2word.doc2bow(text) for text in texts]

lda_model = gensim.models.ldamodel.LdaModel(
    corpus = corpus,
    id2word=id2word,      # for vocab size
    num_topics=6,
    random_state=100,
    update_every=1,   # 0-batch learning, >1 online iterative learning
    chunksize=100,
    passes=10,
    alpha='auto',
    per_word_topics=True
)


lda_model.print_topics()

# Visualizing topics
pyLDAvis.enable_notebook(sort=True)
vis = gensimvis.prepare(lda_model, corpus, id2word)

pyLDAvis.display(vis)

from wordcloud import WordCloud, STOPWORDS
import matplotlib.pyplot as plt

import warnings 
warnings.filterwarnings('ignore')

for i in range(lda_model.num_topics):
    plt.figure()
    plt.imshow(WordCloud().fit_words(dict(lda_model.show_topic(i, 200))))
    plt.axis("off")
    plt.title("Topic #" + str(i))
    plt.show()

def preprocess_text(text):
    # Remove Stop Words
    data_words_nostops = remove_stopwords(text)

    # Form Bigrams
    data_words_bigrams = make_bigrams(data_words_nostops)


    # Do lemmatization keeping only noun, adj, vb, adv
    data_lemmatized = lemmatization(data_words_bigrams, allowed_postags=['NOUN', 'ADJ', 'VERB', 'ADV'])

    return data_lemmatized

def id_toword(data):
    id2word = corpora.Dictionary(data)

    # Create corpus
    texts = data

    # Term document freq
    corpus = [id2word.doc2bow(text) for text in texts]

    return corpus

token = list(sent_to_words(doc))

data_words_nostops = remove_stopwords(token)

# Form Bigrams
data_words_bigrams = make_bigrams(data_words_nostops)


# Do lemmatization keeping only noun, adj, vb, adv
data_lemmatized = lemmatization(data_words_bigrams, allowed_postags=['NOUN', 'ADJ', 'VERB', 'ADV'])

bowDoc = id_toword(data_lemmatized)
print(bowDoc)

termTopicMatrix = lda_model.get_topics()
print(termTopicMatrix.shape)

dictSize = len(termTopicMatrix[0])
print(dictSize)

fullDict = np.zeros(dictSize)
print(fullDict.shape)

for first in bowDoc:
    for i in first:
        print(i[1])

print('Matrix Multiplication: \n', np.dot(termTopicMatrix,fullDict))
print('Conventional Syntax: \n', lda_model[bowDoc])

new_doc = ["""We have been trying to search for the tag Penguin_372, no matter what we doit doesn't come up in the search results. If you search in manage tags itfinds it, then clicking on it doesn't return 
a results list, it just takesyou to the root page with all the inboxes to choose from. I also edited thetag to be a folder , after that the email was displayed.Currently we are going back and forth between 
HW and Front to findinformation, this will get old real quick so we need fixes asap.Kind Regards,JadeJade Lowe <jade@octopusgroup.com.au>Director+61 410 768 160octopusgroup.com.au """]

def unseend_lda(doc):
    token = list(sent_to_words(doc))
    data_words_nostops = remove_stopwords(token)
    data_words_bigrams = make_bigrams(data_words_nostops)
    data_lemmatized = lemmatization(data_words_bigrams, allowed_postags=['NOUN', 'ADJ', 'VERB', 'ADV'])

    bowDoc = id_toword(data_lemmatized)
    termTopicMatrix = lda_model.get_topics()
    dictSize = len(termTopicMatrix[0])
    fullDict = np.zeros(dictSize)
    v = []
    for first in bowDoc:
        for i in first:
            v.append(i[1])
    First = [i[0] for i in first for first in bowDoc]
    Second = [j[1] for j in first for first in bowDoc]
    fullDict[First] = Second
    print('Matrix Multiplication: \n', np.dot(termTopicMatrix,fullDict))
    
    return np.dot(termTopicMatrix,fullDict)

vec = unseend_lda(new_doc)

ans = vec.max()
index = np.where(vec == ans)
print(index[0], ' - ', ans)
