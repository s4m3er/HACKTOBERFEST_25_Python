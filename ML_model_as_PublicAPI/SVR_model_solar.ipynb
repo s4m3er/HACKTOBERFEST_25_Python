{
  "nbformat": 4,
  "nbformat_minor": 0,
  "metadata": {
    "colab": {
      "provenance": []
    },
    "kernelspec": {
      "name": "python3",
      "display_name": "Python 3"
    },
    "language_info": {
      "name": "python"
    }
  },
  "cells": [
    {
      "cell_type": "code",
      "execution_count": null,
      "metadata": {
        "colab": {
          "base_uri": "https://localhost:8080/",
          "height": 126
        },
        "id": "9v6MW8yny9VZ",
        "outputId": "fb8b5f04-9d49-4b99-d12d-920961debf19"
      },
      "outputs": [
        {
          "output_type": "stream",
          "name": "stdout",
          "text": [
            "SVR RMSE: 123.40\n",
            "SVR R² Score: 0.35\n",
            "SVR Accuracy (approx.): 61.30%\n",
            "Model loaded successfully!\n",
            "Model expects 7 features\n",
            "Predicted Solar Energy (KWH): 408.92\n"
          ]
        },
        {
          "output_type": "display_data",
          "data": {
            "text/plain": [
              "<IPython.core.display.Javascript object>"
            ],
            "application/javascript": [
              "\n",
              "    async function download(id, filename, size) {\n",
              "      if (!google.colab.kernel.accessAllowed) {\n",
              "        return;\n",
              "      }\n",
              "      const div = document.createElement('div');\n",
              "      const label = document.createElement('label');\n",
              "      label.textContent = `Downloading \"${filename}\": `;\n",
              "      div.appendChild(label);\n",
              "      const progress = document.createElement('progress');\n",
              "      progress.max = size;\n",
              "      div.appendChild(progress);\n",
              "      document.body.appendChild(div);\n",
              "\n",
              "      const buffers = [];\n",
              "      let downloaded = 0;\n",
              "\n",
              "      const channel = await google.colab.kernel.comms.open(id);\n",
              "      // Send a message to notify the kernel that we're ready.\n",
              "      channel.send({})\n",
              "\n",
              "      for await (const message of channel.messages) {\n",
              "        // Send a message to notify the kernel that we're ready.\n",
              "        channel.send({})\n",
              "        if (message.buffers) {\n",
              "          for (const buffer of message.buffers) {\n",
              "            buffers.push(buffer);\n",
              "            downloaded += buffer.byteLength;\n",
              "            progress.value = downloaded;\n",
              "          }\n",
              "        }\n",
              "      }\n",
              "      const blob = new Blob(buffers, {type: 'application/binary'});\n",
              "      const a = document.createElement('a');\n",
              "      a.href = window.URL.createObjectURL(blob);\n",
              "      a.download = filename;\n",
              "      div.appendChild(a);\n",
              "      a.click();\n",
              "      div.remove();\n",
              "    }\n",
              "  "
            ]
          },
          "metadata": {}
        },
        {
          "output_type": "display_data",
          "data": {
            "text/plain": [
              "<IPython.core.display.Javascript object>"
            ],
            "application/javascript": [
              "download(\"download_5b2b063f-cc46-4266-b70e-8197b06ddf2c\", \"solar_svr_model.joblib\", 13027)"
            ]
          },
          "metadata": {}
        }
      ],
      "source": [
        "import pandas as pd\n",
        "import numpy as np\n",
        "from sklearn.model_selection import train_test_split\n",
        "from sklearn.metrics import mean_squared_error, r2_score\n",
        "from sklearn.preprocessing import MinMaxScaler\n",
        "from sklearn.svm import SVR\n",
        "import joblib\n",
        "from datetime import datetime\n",
        "\n",
        "# 1. Load and prepare data\n",
        "weather_data = pd.read_csv(\"/content/Weather.csv\")\n",
        "solar_data = pd.read_excel(\"/content/Solar work shop.xlsx\")\n",
        "\n",
        "# Convert dates\n",
        "solar_data['Date'] = pd.to_datetime(solar_data['Date'], errors='coerce')\n",
        "weather_data['datetime'] = pd.to_datetime(weather_data['datetime'], dayfirst=True, errors='coerce')\n",
        "\n",
        "# 2. Merge datasets\n",
        "data = pd.merge(weather_data, solar_data, left_on='datetime', right_on='Date', how='inner')\n",
        "\n",
        "# 3. Select features and target\n",
        "features = ['temp', 'humidity', 'dew', 'precip', 'cloudcover', 'solarradiation', 'solarenergy']\n",
        "target = 'KWH'\n",
        "data = data.dropna(subset=features + [target])\n",
        "\n",
        "# 4. Scale features and target\n",
        "scaler_X = MinMaxScaler()\n",
        "scaler_y = MinMaxScaler()\n",
        "\n",
        "X = scaler_X.fit_transform(data[features])\n",
        "y = scaler_y.fit_transform(data[[target]])\n",
        "\n",
        "# 5. Split data\n",
        "X_train, X_test, y_train, y_test = train_test_split(X, y, test_size=0.2, random_state=42)\n",
        "\n",
        "# 6. Train SVR model\n",
        "model = SVR()\n",
        "model.fit(X_train, y_train.ravel())\n",
        "\n",
        "# 7. Evaluate model\n",
        "y_pred_scaled = model.predict(X_test)\n",
        "y_pred = scaler_y.inverse_transform(y_pred_scaled.reshape(-1, 1))\n",
        "y_true = scaler_y.inverse_transform(y_test.reshape(-1, 1))\n",
        "\n",
        "rmse = np.sqrt(mean_squared_error(y_true, y_pred))\n",
        "r2 = r2_score(y_true, y_pred)\n",
        "mean_actual = np.mean(y_true)\n",
        "accuracy = 1 - (rmse / mean_actual)\n",
        "\n",
        "print(f\"SVR RMSE: {rmse:.2f}\")\n",
        "print(f\"SVR R² Score: {r2:.2f}\")\n",
        "print(f\"SVR Accuracy (approx.): {accuracy * 100:.2f}%\")\n",
        "\n",
        "# 8. Save model PROPERLY with all required components\n",
        "model_data = {\n",
        "    'model': model,\n",
        "    'scaler_X': scaler_X,\n",
        "    'scaler_y': scaler_y,\n",
        "    'features': features,\n",
        "    'target': target,\n",
        "    'metadata': {\n",
        "        'training_date': datetime.now().isoformat(),\n",
        "        'model_type': 'SVR',\n",
        "        'version': '1.0'\n",
        "    }\n",
        "}\n",
        "\n",
        "# Save with compression for smaller file size\n",
        "joblib.dump(model_data, 'solar_svr_model.joblib', compress=3, protocol=4)\n",
        "\n",
        "# 9. Verify the saved model can be loaded\n",
        "def load_model(path):\n",
        "    try:\n",
        "        loaded = joblib.load(path)\n",
        "        print(\"Model loaded successfully!\")\n",
        "        print(f\"Model expects {loaded['model'].n_features_in_} features\")\n",
        "        return loaded\n",
        "    except Exception as e:\n",
        "        print(f\"Error loading model: {e}\")\n",
        "        return None\n",
        "\n",
        "# Test loading\n",
        "loaded_model = load_model('solar_svr_model.joblib')\n",
        "\n",
        "# 10. Prediction function using loaded model\n",
        "def predict_kwh(model_data, input_data):\n",
        "    try:\n",
        "        # Convert input to DataFrame\n",
        "        input_df = pd.DataFrame([input_data])[model_data['features']]\n",
        "\n",
        "        # Scale features\n",
        "        input_scaled = model_data['scaler_X'].transform(input_df)\n",
        "\n",
        "        # Predict\n",
        "        pred_scaled = model_data['model'].predict(input_scaled)\n",
        "\n",
        "        # Unscale prediction\n",
        "        return model_data['scaler_y'].inverse_transform(pred_scaled.reshape(-1, 1))[0][0]\n",
        "    except Exception as e:\n",
        "        print(f\"Prediction error: {e}\")\n",
        "        return None\n",
        "\n",
        "# Example prediction\n",
        "if loaded_model:\n",
        "    test_input = {\n",
        "        'temp': 32.4,\n",
        "        'humidity': 43.4,\n",
        "        'dew': 17.3,\n",
        "        'precip': 0,\n",
        "        'cloudcover': 40,\n",
        "        'solarradiation': 289.3,\n",
        "        'solarenergy': 25.0\n",
        "    }\n",
        "\n",
        "    prediction = predict_kwh(loaded_model, test_input)\n",
        "    print(f\"Predicted Solar Energy (KWH): {prediction:.2f}\")\n",
        "\n",
        "# 11. Download the model file (for Colab)\n",
        "from google.colab import files\n",
        "files.download('solar_svr_model.joblib')"
      ]
    },
    {
      "cell_type": "code",
      "source": [],
      "metadata": {
        "id": "1LUdMGp0zXY1"
      },
      "execution_count": null,
      "outputs": []
    }
  ]
}